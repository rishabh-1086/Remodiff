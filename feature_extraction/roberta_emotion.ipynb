{
 "cells": [
  {
   "cell_type": "code",
   "execution_count": 1,
   "id": "a361f628-9438-4b36-a5db-4dcd9c5a5987",
   "metadata": {},
   "outputs": [
    {
     "name": "stderr",
     "output_type": "stream",
     "text": [
      "/home1/arpitasa/.local/lib/python3.11/site-packages/tqdm/auto.py:21: TqdmWarning: IProgress not found. Please update jupyter and ipywidgets. See https://ipywidgets.readthedocs.io/en/stable/user_install.html\n",
      "  from .autonotebook import tqdm as notebook_tqdm\n"
     ]
    }
   ],
   "source": [
    "from transformers import AutoModelForSequenceClassification\n",
    "from transformers import TFAutoModelForSequenceClassification\n",
    "from transformers import AutoTokenizer\n",
    "import numpy as np\n",
    "from scipy.special import softmax\n",
    "import csv\n",
    "import urllib.request\n",
    "import pickle\n",
    "import numpy as np"
   ]
  },
  {
   "cell_type": "code",
   "execution_count": 7,
   "id": "ab5acfab-f803-45cc-934f-bff014ba86da",
   "metadata": {},
   "outputs": [],
   "source": [
    "# file_path = '/home1/arpitasa/CSCI535/first_impressions_v2/transcription_test.pkl'\n",
    "file_path = '/project/msoleyma_1026/personality_detection/first_impressions_v2_dataset/testing/transcription_test.pkl'\n",
    "with open(file_path, 'rb') as file:\n",
    "    data = pickle.load(file, encoding='latin1')"
   ]
  },
  {
   "cell_type": "code",
   "execution_count": 3,
   "id": "aa80de84-66d8-4e37-a46e-40f42f22f47b",
   "metadata": {},
   "outputs": [
    {
     "data": {
      "text/plain": [
       "dict"
      ]
     },
     "execution_count": 3,
     "metadata": {},
     "output_type": "execute_result"
    }
   ],
   "source": [
    "type(data)"
   ]
  },
  {
   "cell_type": "code",
   "execution_count": 3,
   "id": "3ba34335-4c14-485c-8e60-7c6254724dcf",
   "metadata": {},
   "outputs": [
    {
     "name": "stdout",
     "output_type": "stream",
     "text": [
      "Tokenizer loaded successfully!\n"
     ]
    }
   ],
   "source": [
    "\n",
    "# Preprocess text (username and link placeholders)\n",
    "def preprocess(text):\n",
    "    new_text = []\n",
    "    for t in text.split(\" \"):\n",
    "        t = '@user' if t.startswith('@') and len(t) > 1 else t\n",
    "        t = 'http' if t.startswith('http') else t\n",
    "        new_text.append(t)\n",
    "    return \" \".join(new_text)\n",
    "\n",
    "# Tasks:\n",
    "# emoji, emotion, hate, irony, offensive, sentiment\n",
    "# stance/abortion, stance/atheism, stance/climate, stance/feminist, stance/hillary\n",
    "\n",
    "task='emotion'\n",
    "MODEL = f\"cardiffnlp/twitter-roberta-base-{task}\"\n",
    "\n",
    "# tokenizer = AutoTokenizer.from_pretrained(MODEL)\n",
    "\n",
    "try:\n",
    "    tokenizer =  AutoTokenizer.from_pretrained(MODEL)\n",
    "    print(\"Tokenizer loaded successfully!\")\n",
    "except Exception as e:\n",
    "    print(f\"Error loading tokenizer: {e}\")\n",
    "\n",
    "# download label mapping\n",
    "mapping_link = f\"https://raw.githubusercontent.com/cardiffnlp/tweeteval/main/datasets/{task}/mapping.txt\"\n",
    "with urllib.request.urlopen(mapping_link) as f:\n",
    "    html = f.read().decode('utf-8').split(\"\\n\")\n",
    "    csvreader = csv.reader(html, delimiter='\\t')\n",
    "labels = [row[1] for row in csvreader if len(row) > 1]\n",
    "\n",
    "# PT\n",
    "model = AutoModelForSequenceClassification.from_pretrained(MODEL)\n",
    "model.save_pretrained(MODEL)"
   ]
  },
  {
   "cell_type": "code",
   "execution_count": 8,
   "id": "55f1b00d-d53f-47ed-a001-f4137c5f57a8",
   "metadata": {
    "scrolled": true
   },
   "outputs": [
    {
     "name": "stdout",
     "output_type": "stream",
     "text": [
      "test-1\n",
      "test80_13\n",
      "test80_07\n",
      "test80_10\n",
      "test80_03\n",
      "test80_09\n",
      "test80_04\n",
      "test80_06\n",
      "test80_01\n",
      "test80_12\n",
      "test80_05\n",
      "test80_08\n",
      "test80_02\n",
      "test80_11\n",
      "test-2\n",
      "test80_21\n",
      "test80_19\n",
      "test80_14\n",
      "test80_22\n",
      "test80_17\n",
      "test80_25\n",
      "test80_15\n",
      "test80_20\n",
      "test80_18\n",
      "test80_16\n",
      "test80_24\n",
      "test80_23\n"
     ]
    }
   ],
   "source": [
    "import os\n",
    "save_folder = \"/project/msoleyma_1026/personality_detection/first_impressions_v2_dataset/testing/text_feature_vectors\"\n",
    "train_dir = \"/project/msoleyma_1026/personality_detection/first_impressions_v2_dataset/testing/video_files\"\n",
    "\n",
    "output_list = [] \n",
    "count = 0 \n",
    "\n",
    "for train_fold in os.listdir(train_dir): \n",
    "    \n",
    "    if not train_fold.startswith(\"test-\") : \n",
    "        continue\n",
    "    print(train_fold) \n",
    "    output_folder = os.path.join(save_folder, train_fold) \n",
    "    if not os.path.isdir(output_folder): \n",
    "        os.makedirs(output_folder)\n",
    "    full_train_fold = os.path.join(train_dir, train_fold) \n",
    "    for sub_fold in os.listdir(full_train_fold): \n",
    "        print(sub_fold) \n",
    "        full_sub_fold = os.path.join(full_train_fold, sub_fold) \n",
    "        for vid_file in os.listdir(full_sub_fold): \n",
    "            full_vid_file = os.path.join(full_sub_fold,vid_file) \n",
    "\n",
    "            text = data[vid_file] \n",
    "            encoded_input = tokenizer(text, return_tensors='pt')\n",
    "            model.config.output_hidden_states = True\n",
    "            output = model(**encoded_input)\n",
    "            scores = output[0][0].detach().numpy()\n",
    "            scores = softmax(scores)\n",
    "\n",
    "            ranking = np.argsort(scores)\n",
    "            ranking = ranking[::-1]\n",
    "            hidden_states = output.hidden_states \n",
    "            last_hidden_state = hidden_states[-1] \n",
    "\n",
    "            np_array = last_hidden_state[0].detach().numpy()\n",
    "            averaged_vector = np.mean(np_array, axis=0)\n",
    "            # print(np_array)\n",
    "            output_list.append(averaged_vector)\n",
    "            \n",
    "            file_name = vid_file[:-4]\n",
    "            # file_name = \"temp\"\n",
    "            output_file = os.path.join(output_folder, file_name) \n",
    "            np.save(output_file, averaged_vector)\n",
    "  "
   ]
  },
  {
   "cell_type": "code",
   "execution_count": null,
   "id": "a071f4e5-e9c2-4738-bc53-3196c8323aad",
   "metadata": {},
   "outputs": [],
   "source": []
  }
 ],
 "metadata": {
  "kernelspec": {
   "display_name": "data processing kernel",
   "language": "python",
   "name": "data"
  },
  "language_info": {
   "codemirror_mode": {
    "name": "ipython",
    "version": 3
   },
   "file_extension": ".py",
   "mimetype": "text/x-python",
   "name": "python",
   "nbconvert_exporter": "python",
   "pygments_lexer": "ipython3",
   "version": "3.11.9"
  }
 },
 "nbformat": 4,
 "nbformat_minor": 5
}
